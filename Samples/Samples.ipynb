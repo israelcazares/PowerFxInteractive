{
 "cells": [
  {
   "attachments": {},
   "cell_type": "markdown",
   "metadata": {
    "dotnet_interactive": {
     "language": "csharp"
    },
    "polyglot_notebook": {
     "kernelName": "csharp"
    }
   },
   "source": [
    "##### Install Nuget Package"
   ]
  },
  {
   "cell_type": "code",
   "execution_count": 1,
   "metadata": {
    "dotnet_interactive": {
     "language": "csharp"
    },
    "polyglot_notebook": {
     "kernelName": "csharp"
    },
    "vscode": {
     "languageId": "polyglot-notebook"
    }
   },
   "outputs": [
    {
     "data": {
      "text/html": [
       "<div><div></div><div></div><div><strong>Installed Packages</strong><ul><li><span>PowerFxInteractive, 2023.1.2.2</span></li></ul></div></div>"
      ]
     },
     "metadata": {},
     "output_type": "display_data"
    },
    {
     "data": {
      "text/plain": [
       "Loading extensions from `C:\\Users\\cazar\\.nuget\\packages\\powerfxinteractive\\2023.1.2.2\\interactive-extensions\\dotnet\\PowerFxInteractive.dll`"
      ]
     },
     "metadata": {},
     "output_type": "display_data"
    },
    {
     "data": {
      "text/html": [
       "\r\n",
       "        <details>\r\n",
       "            <summary>Power FX Core Version: 0.2.3.0</summary>\r\n",
       "            <p>This extension adds a new kernel that can render Power FX Core Commands.</p>\r\n",
       "            <a href=\"https://learn.microsoft.com/en-us/power-platform/power-fx/formula-reference\" target=\"_blank\">Power Fx formula reference for Power Apps</a>\r\n",
       "            <p>These are the supported Power Fx Core functions:</p>\r\n",
       "            <p><a href=\"https://docs.microsoft.com/en-us/search/?terms=Abs&scope=Power%20Apps\" >Abs</a>\r\n",
       " | <a href=\"https://docs.microsoft.com/en-us/search/?terms=Acos&scope=Power%20Apps\" >Acos</a>\r\n",
       " | <a href=\"https://docs.microsoft.com/en-us/search/?terms=Acot&scope=Power%20Apps\" >Acot</a>\r\n",
       " | <a href=\"https://docs.microsoft.com/en-us/search/?terms=AddColumns&scope=Power%20Apps\" >AddColumns</a>\r\n",
       " | <a href=\"https://docs.microsoft.com/en-us/search/?terms=And&scope=Power%20Apps\" >And</a>\r\n",
       " | <a href=\"https://docs.microsoft.com/en-us/search/?terms=Asin&scope=Power%20Apps\" >Asin</a>\r\n",
       " | <a href=\"https://docs.microsoft.com/en-us/search/?terms=Atan&scope=Power%20Apps\" >Atan</a>\r\n",
       " | <a href=\"https://docs.microsoft.com/en-us/search/?terms=Atan2&scope=Power%20Apps\" >Atan2</a>\r\n",
       " | <a href=\"https://docs.microsoft.com/en-us/search/?terms=Average&scope=Power%20Apps\" >Average</a>\r\n",
       " | <a href=\"https://docs.microsoft.com/en-us/search/?terms=Blank&scope=Power%20Apps\" >Blank</a>\r\n",
       " | <a href=\"https://docs.microsoft.com/en-us/search/?terms=Boolean&scope=Power%20Apps\" >Boolean</a>\r\n",
       " | <a href=\"https://docs.microsoft.com/en-us/search/?terms=Concat&scope=Power%20Apps\" >Concat</a>\r\n",
       " | <a href=\"https://docs.microsoft.com/en-us/search/?terms=Coalesce&scope=Power%20Apps\" >Coalesce</a>\r\n",
       " | <a href=\"https://docs.microsoft.com/en-us/search/?terms=Char&scope=Power%20Apps\" >Char</a>\r\n",
       " | <a href=\"https://docs.microsoft.com/en-us/search/?terms=Concatenate&scope=Power%20Apps\" >Concatenate</a>\r\n",
       " | <a href=\"https://docs.microsoft.com/en-us/search/?terms=Cos&scope=Power%20Apps\" >Cos</a>\r\n",
       " | <a href=\"https://docs.microsoft.com/en-us/search/?terms=Cot&scope=Power%20Apps\" >Cot</a>\r\n",
       " | <a href=\"https://docs.microsoft.com/en-us/search/?terms=Count&scope=Power%20Apps\" >Count</a>\r\n",
       " | <a href=\"https://docs.microsoft.com/en-us/search/?terms=CountA&scope=Power%20Apps\" >CountA</a>\r\n",
       " | <a href=\"https://docs.microsoft.com/en-us/search/?terms=CountIf&scope=Power%20Apps\" >CountIf</a>\r\n",
       " | <a href=\"https://docs.microsoft.com/en-us/search/?terms=CountRows&scope=Power%20Apps\" >CountRows</a>\r\n",
       " | <a href=\"https://docs.microsoft.com/en-us/search/?terms=Date&scope=Power%20Apps\" >Date</a>\r\n",
       " | <a href=\"https://docs.microsoft.com/en-us/search/?terms=DateAdd&scope=Power%20Apps\" >DateAdd</a>\r\n",
       " | <a href=\"https://docs.microsoft.com/en-us/search/?terms=DateDiff&scope=Power%20Apps\" >DateDiff</a>\r\n",
       " | <a href=\"https://docs.microsoft.com/en-us/search/?terms=DateTime&scope=Power%20Apps\" >DateTime</a>\r\n",
       " | <a href=\"https://docs.microsoft.com/en-us/search/?terms=DateValue&scope=Power%20Apps\" >DateValue</a>\r\n",
       " | <a href=\"https://docs.microsoft.com/en-us/search/?terms=DateTimeValue&scope=Power%20Apps\" >DateTimeValue</a>\r\n",
       " | <a href=\"https://docs.microsoft.com/en-us/search/?terms=Day&scope=Power%20Apps\" >Day</a>\r\n",
       " | <a href=\"https://docs.microsoft.com/en-us/search/?terms=Degrees&scope=Power%20Apps\" >Degrees</a>\r\n",
       " | <a href=\"https://docs.microsoft.com/en-us/search/?terms=EndsWith&scope=Power%20Apps\" >EndsWith</a>\r\n",
       " | <a href=\"https://docs.microsoft.com/en-us/search/?terms=Error&scope=Power%20Apps\" >Error</a>\r\n",
       " | <a href=\"https://docs.microsoft.com/en-us/search/?terms=Exp&scope=Power%20Apps\" >Exp</a>\r\n",
       " | <a href=\"https://docs.microsoft.com/en-us/search/?terms=Filter&scope=Power%20Apps\" >Filter</a>\r\n",
       " | <a href=\"https://docs.microsoft.com/en-us/search/?terms=Find&scope=Power%20Apps\" >Find</a>\r\n",
       " | <a href=\"https://docs.microsoft.com/en-us/search/?terms=First&scope=Power%20Apps\" >First</a>\r\n",
       " | <a href=\"https://docs.microsoft.com/en-us/search/?terms=FirstN&scope=Power%20Apps\" >FirstN</a>\r\n",
       " | <a href=\"https://docs.microsoft.com/en-us/search/?terms=ForAll&scope=Power%20Apps\" >ForAll</a>\r\n",
       " | <a href=\"https://docs.microsoft.com/en-us/search/?terms=GUID&scope=Power%20Apps\" >GUID</a>\r\n",
       " | <a href=\"https://docs.microsoft.com/en-us/search/?terms=Hour&scope=Power%20Apps\" >Hour</a>\r\n",
       " | <a href=\"https://docs.microsoft.com/en-us/search/?terms=If&scope=Power%20Apps\" >If</a>\r\n",
       " | <a href=\"https://docs.microsoft.com/en-us/search/?terms=IfError&scope=Power%20Apps\" >IfError</a>\r\n",
       " | <a href=\"https://docs.microsoft.com/en-us/search/?terms=Int&scope=Power%20Apps\" >Int</a>\r\n",
       " | <a href=\"https://docs.microsoft.com/en-us/search/?terms=Index&scope=Power%20Apps\" >Index</a>\r\n",
       " | <a href=\"https://docs.microsoft.com/en-us/search/?terms=IsBlank&scope=Power%20Apps\" >IsBlank</a>\r\n",
       " | <a href=\"https://docs.microsoft.com/en-us/search/?terms=IsBlankOrError&scope=Power%20Apps\" >IsBlankOrError</a>\r\n",
       " | <a href=\"https://docs.microsoft.com/en-us/search/?terms=IsError&scope=Power%20Apps\" >IsError</a>\r\n",
       " | <a href=\"https://docs.microsoft.com/en-us/search/?terms=IsNumeric&scope=Power%20Apps\" >IsNumeric</a>\r\n",
       " | <a href=\"https://docs.microsoft.com/en-us/search/?terms=IsToday&scope=Power%20Apps\" >IsToday</a>\r\n",
       " | <a href=\"https://docs.microsoft.com/en-us/search/?terms=Last&scope=Power%20Apps\" >Last</a>\r\n",
       " | <a href=\"https://docs.microsoft.com/en-us/search/?terms=LastN&scope=Power%20Apps\" >LastN</a>\r\n",
       " | <a href=\"https://docs.microsoft.com/en-us/search/?terms=Left&scope=Power%20Apps\" >Left</a>\r\n",
       " | <a href=\"https://docs.microsoft.com/en-us/search/?terms=Len&scope=Power%20Apps\" >Len</a>\r\n",
       " | <a href=\"https://docs.microsoft.com/en-us/search/?terms=Ln&scope=Power%20Apps\" >Ln</a>\r\n",
       " | <a href=\"https://docs.microsoft.com/en-us/search/?terms=Log&scope=Power%20Apps\" >Log</a>\r\n",
       " | <a href=\"https://docs.microsoft.com/en-us/search/?terms=LookUp&scope=Power%20Apps\" >LookUp</a>\r\n",
       " | <a href=\"https://docs.microsoft.com/en-us/search/?terms=Lower&scope=Power%20Apps\" >Lower</a>\r\n",
       " | <a href=\"https://docs.microsoft.com/en-us/search/?terms=Max&scope=Power%20Apps\" >Max</a>\r\n",
       " | <a href=\"https://docs.microsoft.com/en-us/search/?terms=Mid&scope=Power%20Apps\" >Mid</a>\r\n",
       " | <a href=\"https://docs.microsoft.com/en-us/search/?terms=Min&scope=Power%20Apps\" >Min</a>\r\n",
       " | <a href=\"https://docs.microsoft.com/en-us/search/?terms=Minute&scope=Power%20Apps\" >Minute</a>\r\n",
       " | <a href=\"https://docs.microsoft.com/en-us/search/?terms=Mod&scope=Power%20Apps\" >Mod</a>\r\n",
       " | <a href=\"https://docs.microsoft.com/en-us/search/?terms=Month&scope=Power%20Apps\" >Month</a>\r\n",
       " | <a href=\"https://docs.microsoft.com/en-us/search/?terms=Not&scope=Power%20Apps\" >Not</a>\r\n",
       " | <a href=\"https://docs.microsoft.com/en-us/search/?terms=Now&scope=Power%20Apps\" >Now</a>\r\n",
       " | <a href=\"https://docs.microsoft.com/en-us/search/?terms=Or&scope=Power%20Apps\" >Or</a>\r\n",
       " | <a href=\"https://docs.microsoft.com/en-us/search/?terms=ParseJSON&scope=Power%20Apps\" >ParseJSON</a>\r\n",
       " | <a href=\"https://docs.microsoft.com/en-us/search/?terms=Proper&scope=Power%20Apps\" >Proper</a>\r\n",
       " | <a href=\"https://docs.microsoft.com/en-us/search/?terms=Pi&scope=Power%20Apps\" >Pi</a>\r\n",
       " | <a href=\"https://docs.microsoft.com/en-us/search/?terms=Power&scope=Power%20Apps\" >Power</a>\r\n",
       " | <a href=\"https://docs.microsoft.com/en-us/search/?terms=Radians&scope=Power%20Apps\" >Radians</a>\r\n",
       " | <a href=\"https://docs.microsoft.com/en-us/search/?terms=Rand&scope=Power%20Apps\" >Rand</a>\r\n",
       " | <a href=\"https://docs.microsoft.com/en-us/search/?terms=RandBetween&scope=Power%20Apps\" >RandBetween</a>\r\n",
       " | <a href=\"https://docs.microsoft.com/en-us/search/?terms=Replace&scope=Power%20Apps\" >Replace</a>\r\n",
       " | <a href=\"https://docs.microsoft.com/en-us/search/?terms=Right&scope=Power%20Apps\" >Right</a>\r\n",
       " | <a href=\"https://docs.microsoft.com/en-us/search/?terms=Round&scope=Power%20Apps\" >Round</a>\r\n",
       " | <a href=\"https://docs.microsoft.com/en-us/search/?terms=RoundUp&scope=Power%20Apps\" >RoundUp</a>\r\n",
       " | <a href=\"https://docs.microsoft.com/en-us/search/?terms=RoundDown&scope=Power%20Apps\" >RoundDown</a>\r\n",
       " | <a href=\"https://docs.microsoft.com/en-us/search/?terms=Second&scope=Power%20Apps\" >Second</a>\r\n",
       " | <a href=\"https://docs.microsoft.com/en-us/search/?terms=Sequence&scope=Power%20Apps\" >Sequence</a>\r\n",
       " | <a href=\"https://docs.microsoft.com/en-us/search/?terms=Shuffle&scope=Power%20Apps\" >Shuffle</a>\r\n",
       " | <a href=\"https://docs.microsoft.com/en-us/search/?terms=Sin&scope=Power%20Apps\" >Sin</a>\r\n",
       " | <a href=\"https://docs.microsoft.com/en-us/search/?terms=Sort&scope=Power%20Apps\" >Sort</a>\r\n",
       " | <a href=\"https://docs.microsoft.com/en-us/search/?terms=Split&scope=Power%20Apps\" >Split</a>\r\n",
       " | <a href=\"https://docs.microsoft.com/en-us/search/?terms=Sqrt&scope=Power%20Apps\" >Sqrt</a>\r\n",
       " | <a href=\"https://docs.microsoft.com/en-us/search/?terms=StartsWith&scope=Power%20Apps\" >StartsWith</a>\r\n",
       " | <a href=\"https://docs.microsoft.com/en-us/search/?terms=StdevP&scope=Power%20Apps\" >StdevP</a>\r\n",
       " | <a href=\"https://docs.microsoft.com/en-us/search/?terms=Substitute&scope=Power%20Apps\" >Substitute</a>\r\n",
       " | <a href=\"https://docs.microsoft.com/en-us/search/?terms=Sum&scope=Power%20Apps\" >Sum</a>\r\n",
       " | <a href=\"https://docs.microsoft.com/en-us/search/?terms=Switch&scope=Power%20Apps\" >Switch</a>\r\n",
       " | <a href=\"https://docs.microsoft.com/en-us/search/?terms=Table&scope=Power%20Apps\" >Table</a>\r\n",
       " | <a href=\"https://docs.microsoft.com/en-us/search/?terms=Tan&scope=Power%20Apps\" >Tan</a>\r\n",
       " | <a href=\"https://docs.microsoft.com/en-us/search/?terms=Text&scope=Power%20Apps\" >Text</a>\r\n",
       " | <a href=\"https://docs.microsoft.com/en-us/search/?terms=Time&scope=Power%20Apps\" >Time</a>\r\n",
       " | <a href=\"https://docs.microsoft.com/en-us/search/?terms=TimeValue&scope=Power%20Apps\" >TimeValue</a>\r\n",
       " | <a href=\"https://docs.microsoft.com/en-us/search/?terms=TimeZoneOffset&scope=Power%20Apps\" >TimeZoneOffset</a>\r\n",
       " | <a href=\"https://docs.microsoft.com/en-us/search/?terms=Today&scope=Power%20Apps\" >Today</a>\r\n",
       " | <a href=\"https://docs.microsoft.com/en-us/search/?terms=Trim&scope=Power%20Apps\" >Trim</a>\r\n",
       " | <a href=\"https://docs.microsoft.com/en-us/search/?terms=TrimEnds&scope=Power%20Apps\" >TrimEnds</a>\r\n",
       " | <a href=\"https://docs.microsoft.com/en-us/search/?terms=Trunc&scope=Power%20Apps\" >Trunc</a>\r\n",
       " | <a href=\"https://docs.microsoft.com/en-us/search/?terms=Upper&scope=Power%20Apps\" >Upper</a>\r\n",
       " | <a href=\"https://docs.microsoft.com/en-us/search/?terms=Value&scope=Power%20Apps\" >Value</a>\r\n",
       " | <a href=\"https://docs.microsoft.com/en-us/search/?terms=VarP&scope=Power%20Apps\" >VarP</a>\r\n",
       " | <a href=\"https://docs.microsoft.com/en-us/search/?terms=With&scope=Power%20Apps\" >With</a>\r\n",
       " | <a href=\"https://docs.microsoft.com/en-us/search/?terms=Year&scope=Power%20Apps\" >Year</a></p>            \r\n",
       "            \r\n",
       "        </details>"
      ]
     },
     "metadata": {},
     "output_type": "display_data"
    }
   ],
   "source": [
    "#r \"nuget: PowerFxInteractive, 2023.1.2.2\""
   ]
  },
  {
   "attachments": {},
   "cell_type": "markdown",
   "metadata": {
    "dotnet_interactive": {
     "language": "csharp"
    },
    "polyglot_notebook": {
     "kernelName": "csharp"
    }
   },
   "source": [
    "##### Setting up variables"
   ]
  },
  {
   "cell_type": "code",
   "execution_count": 2,
   "metadata": {
    "dotnet_interactive": {
     "language": "csharp"
    },
    "polyglot_notebook": {
     "kernelName": "csharp"
    },
    "vscode": {
     "languageId": "polyglot-notebook"
    }
   },
   "outputs": [
    {
     "data": {
      "text/markdown": [
       "<table><style>table { width: 50vw;}</style><tr><th>Expression</th><th>Result</th></tr><tr><td><br>Set(a,1)<br><br></td><td>1</td></tr><tr><td><br>Set(b,2)<br><br></td><td>2</td></tr><tr><td><br>Sum(a,b)<br><br></td><td>3</td></tr></table>"
      ]
     },
     "metadata": {},
     "output_type": "display_data"
    }
   ],
   "source": [
    "#!powerfx\n",
    "Set(a,1)\n",
    "Set(b,2)\n",
    "Sum(a,b)"
   ]
  },
  {
   "attachments": {},
   "cell_type": "markdown",
   "metadata": {
    "dotnet_interactive": {
     "language": "csharp"
    },
    "polyglot_notebook": {
     "kernelName": "csharp"
    }
   },
   "source": [
    "##### Math Expressions"
   ]
  },
  {
   "cell_type": "code",
   "execution_count": 3,
   "metadata": {
    "dotnet_interactive": {
     "language": "csharp"
    },
    "polyglot_notebook": {
     "kernelName": "csharp"
    },
    "vscode": {
     "languageId": "polyglot-notebook"
    }
   },
   "outputs": [
    {
     "data": {
      "text/markdown": [
       "<table><style>table { width: 50vw;}</style><tr><th>Expression</th><th>Result</th></tr><tr><td><br>x&nbsp=&nbspAcos(0.5)<br><br></td><td>1.0471975511965979</td></tr><tr><td><br>Sum(x,5)<br><br></td><td>6.047197551196598</td></tr></table>"
      ]
     },
     "metadata": {},
     "output_type": "display_data"
    }
   ],
   "source": [
    "#!powerfx\n",
    "x = Acos(0.5)\n",
    "Sum(x,5)"
   ]
  },
  {
   "attachments": {},
   "cell_type": "markdown",
   "metadata": {
    "dotnet_interactive": {
     "language": "csharp"
    },
    "polyglot_notebook": {
     "kernelName": "csharp"
    }
   },
   "source": [
    "##### Creating Tables & Filters"
   ]
  },
  {
   "cell_type": "code",
   "execution_count": 4,
   "metadata": {
    "dotnet_interactive": {
     "language": "csharp"
    },
    "polyglot_notebook": {
     "kernelName": "csharp"
    },
    "vscode": {
     "languageId": "polyglot-notebook"
    }
   },
   "outputs": [
    {
     "data": {
      "text/markdown": [
       "<table><style>table { width: 50vw;}</style><tr><th>Expression</th><th>Result</th></tr><tr><td><br>ClearCollect(IceCream,&nbspTable(<br>&nbsp&nbsp&nbsp&nbsp{&nbspFlavor:&nbsp\"Chocolate\",&nbspQuantity:&nbsp100&nbsp},&nbsp<br>&nbsp&nbsp&nbsp&nbsp{&nbspFlavor:&nbsp\"Vanilla\",&nbspQuantity:&nbsp200&nbsp}<br>))<br><br></td><td>Table({Flavor:\"Chocolate\", Quantity:100}, {Flavor:\"Vanilla\", Quantity:200})</td></tr></table>"
      ]
     },
     "metadata": {},
     "output_type": "display_data"
    }
   ],
   "source": [
    "#!powerfx\n",
    "ClearCollect(IceCream, Table(\n",
    "    { Flavor: \"Chocolate\", Quantity: 100 }, \n",
    "    { Flavor: \"Vanilla\", Quantity: 200 }\n",
    "));"
   ]
  },
  {
   "cell_type": "code",
   "execution_count": 5,
   "metadata": {
    "dotnet_interactive": {
     "language": "csharp"
    },
    "polyglot_notebook": {
     "kernelName": "csharp"
    },
    "vscode": {
     "languageId": "polyglot-notebook"
    }
   },
   "outputs": [
    {
     "data": {
      "text/markdown": [
       "<table><style>table { width: 50vw;}</style><tr><th>Expression</th><th>Result</th></tr><tr><td><br>Upper(First(Sort(Filter(IceCream,&nbspQuantity&nbsp>&nbsp10),&nbspQuantity)).Flavor)<br><br></td><td>\"CHOCOLATE\"</td></tr><tr><td><br>Upper(First(Sort(Filter(IceCream,&nbspQuantity&nbsp>&nbsp100),&nbspQuantity)).Flavor)<br><br></td><td>\"VANILLA\"</td></tr></table>"
      ]
     },
     "metadata": {},
     "output_type": "display_data"
    }
   ],
   "source": [
    "#!powerfx\n",
    "Upper(First(Sort(Filter(IceCream, Quantity > 10), Quantity)).Flavor)\n",
    "Upper(First(Sort(Filter(IceCream, Quantity > 100), Quantity)).Flavor)"
   ]
  },
  {
   "attachments": {},
   "cell_type": "markdown",
   "metadata": {
    "dotnet_interactive": {
     "language": "csharp"
    },
    "polyglot_notebook": {
     "kernelName": "csharp"
    }
   },
   "source": [
    "##### Sequence"
   ]
  },
  {
   "cell_type": "code",
   "execution_count": 6,
   "metadata": {
    "dotnet_interactive": {
     "language": "csharp"
    },
    "polyglot_notebook": {
     "kernelName": "csharp"
    },
    "vscode": {
     "languageId": "polyglot-notebook"
    }
   },
   "outputs": [
    {
     "data": {
      "text/markdown": [
       "<table><style>table { width: 50vw;}</style><tr><th>Expression</th><th>Result</th></tr><tr><td><br>Sequence(4)<br><br></td><td>[1, 2, 3, 4]</td></tr></table>"
      ]
     },
     "metadata": {},
     "output_type": "display_data"
    }
   ],
   "source": [
    "#!powerfx\n",
    "Sequence(4)"
   ]
  },
  {
   "cell_type": "code",
   "execution_count": 7,
   "metadata": {
    "dotnet_interactive": {
     "language": "csharp"
    },
    "polyglot_notebook": {
     "kernelName": "csharp"
    },
    "vscode": {
     "languageId": "polyglot-notebook"
    }
   },
   "outputs": [
    {
     "data": {
      "text/markdown": [
       "<table><style>table { width: 50vw;}</style><tr><th>Expression</th><th>Result</th></tr><tr><td><br>ForAll(Sequence(4),&nbspRand())<br><br></td><td>[0.9773849144531738, 0.9931691587016811, 0.2007042157047103, 0.5456124573904574]</td></tr></table>"
      ]
     },
     "metadata": {},
     "output_type": "display_data"
    }
   ],
   "source": [
    "#!powerfx\n",
    "ForAll(Sequence(4), Rand())"
   ]
  }
 ],
 "metadata": {
  "kernelspec": {
   "display_name": ".NET (C#)",
   "language": "C#",
   "name": ".net-csharp"
  },
  "polyglot_notebook": {
   "kernelInfo": {
    "defaultKernelName": "csharp",
    "items": [
     {
      "aliases": [
       "c#",
       "C#"
      ],
      "languageName": "C#",
      "name": "csharp"
     },
     {
      "aliases": [],
      "name": ".NET"
     },
     {
      "aliases": [
       "frontend"
      ],
      "name": "vscode"
     },
     {
      "aliases": [],
      "languageName": null,
      "name": "powerfx"
     },
     {
      "aliases": [
       "f#",
       "F#"
      ],
      "languageName": "F#",
      "name": "fsharp"
     },
     {
      "aliases": [],
      "languageName": "HTML",
      "name": "html"
     },
     {
      "aliases": [
       "js"
      ],
      "languageName": "JavaScript",
      "name": "javascript"
     },
     {
      "aliases": [],
      "languageName": "KQL",
      "name": "kql"
     },
     {
      "aliases": [],
      "languageName": "Mermaid",
      "name": "mermaid"
     },
     {
      "aliases": [
       "powershell"
      ],
      "languageName": "PowerShell",
      "name": "pwsh"
     },
     {
      "aliases": [],
      "languageName": "SQL",
      "name": "sql"
     },
     {
      "aliases": [],
      "name": "value"
     },
     {
      "aliases": [],
      "name": "webview"
     }
    ]
   }
  }
 },
 "nbformat": 4,
 "nbformat_minor": 2
}
